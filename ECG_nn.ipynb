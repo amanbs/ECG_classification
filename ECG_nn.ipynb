{
  "nbformat": 4,
  "nbformat_minor": 0,
  "metadata": {
    "colab": {
      "provenance": [],
      "collapsed_sections": [],
      "include_colab_link": true
    },
    "kernelspec": {
      "name": "python3",
      "display_name": "Python 3"
    },
    "language_info": {
      "name": "python"
    }
  },
  "cells": [
    {
      "cell_type": "markdown",
      "metadata": {
        "id": "view-in-github",
        "colab_type": "text"
      },
      "source": [
        "<a href=\"https://colab.research.google.com/github/amanbs/ECG_classification/blob/master/ECG_nn.ipynb\" target=\"_parent\"><img src=\"https://colab.research.google.com/assets/colab-badge.svg\" alt=\"Open In Colab\"/></a>"
      ]
    },
    {
      "cell_type": "code",
      "execution_count": null,
      "metadata": {
        "colab": {
          "base_uri": "https://localhost:8080/",
          "height": 74
        },
        "id": "U0EMc31CqyHz",
        "outputId": "592cef91-6022-4dd0-d3c4-0b663b97de19"
      },
      "outputs": [
        {
          "output_type": "display_data",
          "data": {
            "text/plain": [
              "<IPython.core.display.HTML object>"
            ],
            "text/html": [
              "\n",
              "     <input type=\"file\" id=\"files-f2a19a90-db0d-4ad3-83fe-af1afe98be2f\" name=\"files[]\" multiple disabled\n",
              "        style=\"border:none\" />\n",
              "     <output id=\"result-f2a19a90-db0d-4ad3-83fe-af1afe98be2f\">\n",
              "      Upload widget is only available when the cell has been executed in the\n",
              "      current browser session. Please rerun this cell to enable.\n",
              "      </output>\n",
              "      <script>// Copyright 2017 Google LLC\n",
              "//\n",
              "// Licensed under the Apache License, Version 2.0 (the \"License\");\n",
              "// you may not use this file except in compliance with the License.\n",
              "// You may obtain a copy of the License at\n",
              "//\n",
              "//      http://www.apache.org/licenses/LICENSE-2.0\n",
              "//\n",
              "// Unless required by applicable law or agreed to in writing, software\n",
              "// distributed under the License is distributed on an \"AS IS\" BASIS,\n",
              "// WITHOUT WARRANTIES OR CONDITIONS OF ANY KIND, either express or implied.\n",
              "// See the License for the specific language governing permissions and\n",
              "// limitations under the License.\n",
              "\n",
              "/**\n",
              " * @fileoverview Helpers for google.colab Python module.\n",
              " */\n",
              "(function(scope) {\n",
              "function span(text, styleAttributes = {}) {\n",
              "  const element = document.createElement('span');\n",
              "  element.textContent = text;\n",
              "  for (const key of Object.keys(styleAttributes)) {\n",
              "    element.style[key] = styleAttributes[key];\n",
              "  }\n",
              "  return element;\n",
              "}\n",
              "\n",
              "// Max number of bytes which will be uploaded at a time.\n",
              "const MAX_PAYLOAD_SIZE = 100 * 1024;\n",
              "\n",
              "function _uploadFiles(inputId, outputId) {\n",
              "  const steps = uploadFilesStep(inputId, outputId);\n",
              "  const outputElement = document.getElementById(outputId);\n",
              "  // Cache steps on the outputElement to make it available for the next call\n",
              "  // to uploadFilesContinue from Python.\n",
              "  outputElement.steps = steps;\n",
              "\n",
              "  return _uploadFilesContinue(outputId);\n",
              "}\n",
              "\n",
              "// This is roughly an async generator (not supported in the browser yet),\n",
              "// where there are multiple asynchronous steps and the Python side is going\n",
              "// to poll for completion of each step.\n",
              "// This uses a Promise to block the python side on completion of each step,\n",
              "// then passes the result of the previous step as the input to the next step.\n",
              "function _uploadFilesContinue(outputId) {\n",
              "  const outputElement = document.getElementById(outputId);\n",
              "  const steps = outputElement.steps;\n",
              "\n",
              "  const next = steps.next(outputElement.lastPromiseValue);\n",
              "  return Promise.resolve(next.value.promise).then((value) => {\n",
              "    // Cache the last promise value to make it available to the next\n",
              "    // step of the generator.\n",
              "    outputElement.lastPromiseValue = value;\n",
              "    return next.value.response;\n",
              "  });\n",
              "}\n",
              "\n",
              "/**\n",
              " * Generator function which is called between each async step of the upload\n",
              " * process.\n",
              " * @param {string} inputId Element ID of the input file picker element.\n",
              " * @param {string} outputId Element ID of the output display.\n",
              " * @return {!Iterable<!Object>} Iterable of next steps.\n",
              " */\n",
              "function* uploadFilesStep(inputId, outputId) {\n",
              "  const inputElement = document.getElementById(inputId);\n",
              "  inputElement.disabled = false;\n",
              "\n",
              "  const outputElement = document.getElementById(outputId);\n",
              "  outputElement.innerHTML = '';\n",
              "\n",
              "  const pickedPromise = new Promise((resolve) => {\n",
              "    inputElement.addEventListener('change', (e) => {\n",
              "      resolve(e.target.files);\n",
              "    });\n",
              "  });\n",
              "\n",
              "  const cancel = document.createElement('button');\n",
              "  inputElement.parentElement.appendChild(cancel);\n",
              "  cancel.textContent = 'Cancel upload';\n",
              "  const cancelPromise = new Promise((resolve) => {\n",
              "    cancel.onclick = () => {\n",
              "      resolve(null);\n",
              "    };\n",
              "  });\n",
              "\n",
              "  // Wait for the user to pick the files.\n",
              "  const files = yield {\n",
              "    promise: Promise.race([pickedPromise, cancelPromise]),\n",
              "    response: {\n",
              "      action: 'starting',\n",
              "    }\n",
              "  };\n",
              "\n",
              "  cancel.remove();\n",
              "\n",
              "  // Disable the input element since further picks are not allowed.\n",
              "  inputElement.disabled = true;\n",
              "\n",
              "  if (!files) {\n",
              "    return {\n",
              "      response: {\n",
              "        action: 'complete',\n",
              "      }\n",
              "    };\n",
              "  }\n",
              "\n",
              "  for (const file of files) {\n",
              "    const li = document.createElement('li');\n",
              "    li.append(span(file.name, {fontWeight: 'bold'}));\n",
              "    li.append(span(\n",
              "        `(${file.type || 'n/a'}) - ${file.size} bytes, ` +\n",
              "        `last modified: ${\n",
              "            file.lastModifiedDate ? file.lastModifiedDate.toLocaleDateString() :\n",
              "                                    'n/a'} - `));\n",
              "    const percent = span('0% done');\n",
              "    li.appendChild(percent);\n",
              "\n",
              "    outputElement.appendChild(li);\n",
              "\n",
              "    const fileDataPromise = new Promise((resolve) => {\n",
              "      const reader = new FileReader();\n",
              "      reader.onload = (e) => {\n",
              "        resolve(e.target.result);\n",
              "      };\n",
              "      reader.readAsArrayBuffer(file);\n",
              "    });\n",
              "    // Wait for the data to be ready.\n",
              "    let fileData = yield {\n",
              "      promise: fileDataPromise,\n",
              "      response: {\n",
              "        action: 'continue',\n",
              "      }\n",
              "    };\n",
              "\n",
              "    // Use a chunked sending to avoid message size limits. See b/62115660.\n",
              "    let position = 0;\n",
              "    do {\n",
              "      const length = Math.min(fileData.byteLength - position, MAX_PAYLOAD_SIZE);\n",
              "      const chunk = new Uint8Array(fileData, position, length);\n",
              "      position += length;\n",
              "\n",
              "      const base64 = btoa(String.fromCharCode.apply(null, chunk));\n",
              "      yield {\n",
              "        response: {\n",
              "          action: 'append',\n",
              "          file: file.name,\n",
              "          data: base64,\n",
              "        },\n",
              "      };\n",
              "\n",
              "      let percentDone = fileData.byteLength === 0 ?\n",
              "          100 :\n",
              "          Math.round((position / fileData.byteLength) * 100);\n",
              "      percent.textContent = `${percentDone}% done`;\n",
              "\n",
              "    } while (position < fileData.byteLength);\n",
              "  }\n",
              "\n",
              "  // All done.\n",
              "  yield {\n",
              "    response: {\n",
              "      action: 'complete',\n",
              "    }\n",
              "  };\n",
              "}\n",
              "\n",
              "scope.google = scope.google || {};\n",
              "scope.google.colab = scope.google.colab || {};\n",
              "scope.google.colab._files = {\n",
              "  _uploadFiles,\n",
              "  _uploadFilesContinue,\n",
              "};\n",
              "})(self);\n",
              "</script> "
            ]
          },
          "metadata": {}
        },
        {
          "output_type": "stream",
          "name": "stdout",
          "text": [
            "Saving Diagnostics.csv to Diagnostics.csv\n"
          ]
        }
      ],
      "source": [
        "## Importing data into colab\n",
        "from google.colab import files\n",
        "uploaded=files.upload()"
      ]
    },
    {
      "cell_type": "code",
      "source": [
        "## Converting to df\n",
        "import pandas as pd\n",
        "data=pd.read_csv('Diagnostics.csv')\n"
      ],
      "metadata": {
        "id": "f6o7jAV-6kmy"
      },
      "execution_count": null,
      "outputs": []
    },
    {
      "cell_type": "code",
      "source": [
        "feature_set=data[['VentricularRate','AtrialRate', 'QRSDuration', 'QTInterval', 'QTCorrected', 'RAxis','TAxis', 'QRSCount', 'QOnset', 'QOffset', 'TOffset']]"
      ],
      "metadata": {
        "id": "Q2jAgbMs7_Xk"
      },
      "execution_count": null,
      "outputs": []
    },
    {
      "cell_type": "code",
      "source": [
        "#feature_set.head()"
      ],
      "metadata": {
        "id": "GLUKeqRx8XWv"
      },
      "execution_count": null,
      "outputs": []
    },
    {
      "cell_type": "code",
      "source": [
        "#data.head()"
      ],
      "metadata": {
        "id": "KzsPgj9o8ePi"
      },
      "execution_count": null,
      "outputs": []
    },
    {
      "cell_type": "code",
      "source": [
        "## Make output variable\n",
        "# Import label encoder\n",
        "from sklearn import preprocessing\n",
        "import numpy as np\n",
        "\n",
        "\n",
        "# label_encoder object knows how to understand word labels.\n",
        "label_encoder = preprocessing.LabelEncoder()\n",
        "\n",
        "# Encode labels in column 'species'.\n",
        "data['Rhythm']= label_encoder.fit_transform(data['Rhythm'])\n",
        "\n",
        "\n",
        "Z=np.asarray(data['Rhythm'])\n"
      ],
      "metadata": {
        "id": "A2WgqpfXU4fC"
      },
      "execution_count": null,
      "outputs": []
    },
    {
      "cell_type": "code",
      "source": [
        "# Standard PyTorch imports\n",
        "import torch\n",
        "\n",
        "\n",
        "# Make device agnostic code\n",
        "#device = \"cuda\" if torch.cuda.is_available() else \"cpu\"\n",
        "#device"
      ],
      "metadata": {
        "id": "LZFrD8ZK-rmo"
      },
      "execution_count": null,
      "outputs": []
    },
    {
      "cell_type": "code",
      "source": [
        "import torch\n",
        "##Turn data into tensors\n",
        "feature = torch.tensor(feature_set.values).type(torch.float)\n",
        "\n",
        "#feature = torch.from_numpy(feature_set).type(torch.float)\n",
        "out = torch.from_numpy(Z).type(torch.LongTensor)\n",
        "print(feature[:5], out[:5])"
      ],
      "metadata": {
        "colab": {
          "base_uri": "https://localhost:8080/"
        },
        "id": "UDBg3dDpYiRN",
        "outputId": "0da871ab-2fa6-4377-99e0-4b505cfdad29"
      },
      "execution_count": null,
      "outputs": [
        {
          "output_type": "stream",
          "name": "stdout",
          "text": [
            "tensor([[117., 234., 114., 356., 496.,  81., -27.,  19., 208., 265., 386.],\n",
            "        [ 52.,  52.,  92., 432., 401.,  76.,  42.,   8., 215., 261., 431.],\n",
            "        [ 67.,  67.,  82., 382., 403.,  88.,  20.,  11., 224., 265., 415.],\n",
            "        [ 53.,  53.,  96., 456., 427.,  34.,   3.,   9., 219., 267., 447.],\n",
            "        [162., 162., 114., 252., 413.,  68., -40.,  26., 228., 285., 354.]]) tensor([1, 7, 5, 7, 0])\n"
          ]
        }
      ]
    },
    {
      "cell_type": "code",
      "source": [
        "#Split to train and split\n",
        "from sklearn.model_selection import train_test_split\n",
        "feature_train, feature_test, out_train, out_test = train_test_split(feature, out, test_size=0.2, random_state=42)\n"
      ],
      "metadata": {
        "id": "CtYCocONYjHV"
      },
      "execution_count": null,
      "outputs": []
    },
    {
      "cell_type": "code",
      "source": [
        "NUM_FEATURES= 11\n",
        "NUM_CLASSES= 11"
      ],
      "metadata": {
        "id": "bDmJw2tFOsvt"
      },
      "execution_count": null,
      "outputs": []
    },
    {
      "cell_type": "code",
      "source": [
        "# Standard PyTorch imports\n",
        "import torch\n",
        "from torch import nn\n",
        "\n",
        "# Make device agnostic code\n",
        "device = \"cuda\" if torch.cuda.is_available() else \"cpu\"\n",
        "device"
      ],
      "metadata": {
        "colab": {
          "base_uri": "https://localhost:8080/",
          "height": 35
        },
        "id": "oqBsA8XhdEBg",
        "outputId": "ce30d055-e64d-403c-cb32-cffeaeffaf41"
      },
      "execution_count": null,
      "outputs": [
        {
          "output_type": "execute_result",
          "data": {
            "text/plain": [
              "'cpu'"
            ],
            "application/vnd.google.colaboratory.intrinsic+json": {
              "type": "string"
            }
          },
          "metadata": {},
          "execution_count": 8
        }
      ]
    },
    {
      "cell_type": "code",
      "source": [
        "##Setting up the model\n",
        "from torch import nn\n",
        "class ecgmodel(nn.Module):\n",
        "  def __init__(self, input_features, output_features, hidden_units=128):\n",
        "    super().__init__()\n",
        "    self.linear_layer_stack=nn.Sequential(\n",
        "        nn.Linear(in_features=input_features, out_features=hidden_units),\n",
        "        nn.LeakyReLU(),\n",
        "        nn.Linear(in_features=hidden_units, out_features=hidden_units),\n",
        "        nn.LeakyReLU(),\n",
        "        nn.Linear(in_features=hidden_units, out_features=output_features)\n",
        "\n",
        "    )\n",
        "    \n",
        "  def forward (self, x):\n",
        "    return self.linear_layer_stack(x)\n",
        "model_1= ecgmodel(input_features=NUM_FEATURES,\n",
        "                  output_features=NUM_CLASSES,\n",
        "                  hidden_units=128).to(device)\n",
        "print(model_1)"
      ],
      "metadata": {
        "colab": {
          "base_uri": "https://localhost:8080/"
        },
        "id": "CuCJQ5C__6Rt",
        "outputId": "c7bcc3bc-e272-403f-ede9-b7a584ca8416"
      },
      "execution_count": null,
      "outputs": [
        {
          "output_type": "stream",
          "name": "stdout",
          "text": [
            "ecgmodel(\n",
            "  (linear_layer_stack): Sequential(\n",
            "    (0): Linear(in_features=11, out_features=128, bias=True)\n",
            "    (1): LeakyReLU(negative_slope=0.01)\n",
            "    (2): Linear(in_features=128, out_features=128, bias=True)\n",
            "    (3): LeakyReLU(negative_slope=0.01)\n",
            "    (4): Linear(in_features=128, out_features=11, bias=True)\n",
            "  )\n",
            ")\n"
          ]
        }
      ]
    },
    {
      "cell_type": "code",
      "source": [
        "## Setup a loss function  \n",
        "loss_fn = nn.CrossEntropyLoss()\n"
      ],
      "metadata": {
        "id": "MvrHL-CJAZ8H"
      },
      "execution_count": null,
      "outputs": []
    },
    {
      "cell_type": "code",
      "source": [
        "#Calculate Accuracy\n",
        "def accuracy_fn(y_true, y_pred):\n",
        "  correct= torch.eq(y_true, y_pred).sum().item()\n",
        "  acc=(correct/len(y_pred))*100\n",
        "  return acc"
      ],
      "metadata": {
        "id": "KOIOTu54LqE3"
      },
      "execution_count": null,
      "outputs": []
    },
    {
      "cell_type": "code",
      "source": [
        "#Setup Optimizer\n",
        "optimizer = torch.optim.Adam(params=model_1.parameters(),\n",
        "                            lr=0.0001)"
      ],
      "metadata": {
        "id": "WBokZpPzDX1W"
      },
      "execution_count": null,
      "outputs": []
    },
    {
      "cell_type": "code",
      "source": [
        "## Training loop \n",
        "\n",
        "torch.manual_seed(42)\n",
        "\n",
        "epochs = 10000\n",
        "\n",
        "feature_train, out_train= feature_train.to(device), out_train.to(device)\n",
        "feature_test, out_test= feature_test.to(device), out_test.to(device)\n",
        "\n",
        "#Build training and evaluation loop\n",
        "for epoch in range(epochs):\n",
        "  model_1.train()\n",
        "\n",
        "  # Forward pass\n",
        "  y_logits=model_1(feature_train)\n",
        "  y_pred = torch.softmax(y_logits, dim=1).argmax(dim=1)\n",
        "  \n",
        "\n",
        "  #Calculate loss\n",
        "  loss= loss_fn(y_logits,\n",
        "               out_train)\n",
        "  #Accuracy not necesary\n",
        "  acc= accuracy_fn(y_true= out_train,\n",
        "                 y_pred=y_pred)\n",
        "  #Optimizer\n",
        "  optimizer.zero_grad()\n",
        "\n",
        "  #Loss Backward\n",
        "  loss.backward()\n",
        "\n",
        "  #Optimizer Step (gradient descent)\n",
        "  optimizer.step()\n",
        "\n",
        "  #Testing\n",
        "  model_1.eval()\n",
        "  with torch.inference_mode():\n",
        "      # 1. Forward pass\n",
        "      test_logits = model_1(feature_test)\n",
        "      test_pred = torch.softmax(test_logits, dim=1).argmax(dim=1)\n",
        "      # 2. Calculate test loss and accuracy\n",
        "      test_loss = loss_fn(test_logits, out_test)\n",
        "      test_acc = accuracy_fn(y_true=out_test,\n",
        "                             y_pred=test_pred)\n",
        "\n",
        "  # Print out what's happening\n",
        "  if epoch % 1000 == 0:\n",
        "        print(f\"Epoch: {epoch} | Loss: {loss:.5f}, Acc: {acc:.2f}% | Test Loss: {test_loss:.5f}, Test Acc: {test_acc:.2f}%\")\n"
      ],
      "metadata": {
        "colab": {
          "base_uri": "https://localhost:8080/"
        },
        "id": "4XVh2MJiMaTQ",
        "outputId": "c79691d4-9586-4f4b-e796-fd0dfb42e914"
      },
      "execution_count": null,
      "outputs": [
        {
          "output_type": "stream",
          "name": "stdout",
          "text": [
            "Epoch: 0 | Loss: 0.34854, Acc: 88.63% | Test Loss: 0.58745, Test Acc: 85.26%\n",
            "Epoch: 1000 | Loss: 0.29132, Acc: 90.81% | Test Loss: 0.65918, Test Acc: 84.93%\n",
            "Epoch: 2000 | Loss: 0.25579, Acc: 92.02% | Test Loss: 0.77788, Test Acc: 84.23%\n",
            "Epoch: 3000 | Loss: 0.23330, Acc: 92.63% | Test Loss: 0.90431, Test Acc: 84.46%\n",
            "Epoch: 4000 | Loss: 0.21548, Acc: 93.17% | Test Loss: 1.03087, Test Acc: 84.32%\n",
            "Epoch: 5000 | Loss: 0.20251, Acc: 93.41% | Test Loss: 1.15187, Test Acc: 84.18%\n",
            "Epoch: 6000 | Loss: 0.19235, Acc: 93.72% | Test Loss: 1.27525, Test Acc: 83.80%\n",
            "Epoch: 7000 | Loss: 0.18352, Acc: 93.99% | Test Loss: 1.37677, Test Acc: 83.24%\n",
            "Epoch: 8000 | Loss: 0.17587, Acc: 94.22% | Test Loss: 1.48656, Test Acc: 82.63%\n",
            "Epoch: 9000 | Loss: 0.16926, Acc: 94.46% | Test Loss: 1.57996, Test Acc: 82.44%\n"
          ]
        }
      ]
    },
    {
      "cell_type": "code",
      "source": [
        "# Make predictions\n",
        "model_1.eval()\n",
        "with torch.inference_mode():\n",
        "    y_logits = model_1(feature_test)"
      ],
      "metadata": {
        "id": "mUTw6WVqR3_z"
      },
      "execution_count": null,
      "outputs": []
    },
    {
      "cell_type": "code",
      "source": [
        "# Turn predicted logits in prediction probabilities\n",
        "y_pred_probs = torch.softmax(y_logits, dim=1)\n",
        "\n",
        "# Turn prediction probabilities into prediction labels\n",
        "y_preds = y_pred_probs.argmax(dim=1)\n",
        "\n",
        "# Compare first 10 model preds and test labels\n",
        "print(f\"Predictions: {y_preds[:10]}\\nLabels: {out_test[:10]}\")\n",
        "print(f\"Test accuracy: {accuracy_fn(y_true=out_test, y_pred=y_preds)}%\")\n"
      ],
      "metadata": {
        "id": "UYKAfIlOSFZz",
        "colab": {
          "base_uri": "https://localhost:8080/"
        },
        "outputId": "05304569-9595-4ef2-8cc7-3728c9af30a5"
      },
      "execution_count": null,
      "outputs": [
        {
          "output_type": "stream",
          "name": "stdout",
          "text": [
            "Predictions: tensor([ 7,  0, 10,  9,  9,  9,  7,  1,  7,  7])\n",
            "Labels: tensor([ 7,  0, 10,  9,  9,  9,  7,  1,  7,  7])\n",
            "Test accuracy: 82.58215962441314%\n"
          ]
        }
      ]
    },
    {
      "cell_type": "code",
      "source": [
        "!pip -q install torchmetrics\n",
        "\n",
        "from torchmetrics import Accuracy\n",
        "\n",
        "# Setup metric and make sure it's on the target device\n",
        "torchmetrics_accuracy = Accuracy().to(device)\n",
        "\n",
        "# Calculate accuracy\n",
        "torchmetrics_accuracy(y_preds, out_test)"
      ],
      "metadata": {
        "id": "VlvCl5DoSQOR",
        "colab": {
          "base_uri": "https://localhost:8080/"
        },
        "outputId": "82bef5a2-f81b-4b81-e42a-66474e0e3f79"
      },
      "execution_count": null,
      "outputs": [
        {
          "output_type": "execute_result",
          "data": {
            "text/plain": [
              "tensor(0.8258)"
            ]
          },
          "metadata": {},
          "execution_count": 44
        }
      ]
    }
  ]
}