{
  "nbformat": 4,
  "nbformat_minor": 0,
  "metadata": {
    "colab": {
      "provenance": [],
      "authorship_tag": "ABX9TyMVqschekw44ryukEXiNyNC",
      "include_colab_link": true
    },
    "kernelspec": {
      "name": "python3",
      "display_name": "Python 3"
    },
    "language_info": {
      "name": "python"
    }
  },
  "cells": [
    {
      "cell_type": "markdown",
      "metadata": {
        "id": "view-in-github",
        "colab_type": "text"
      },
      "source": [
        "<a href=\"https://colab.research.google.com/github/amanbs/ECG_classification/blob/master/QRS_detector.ipynb\" target=\"_parent\"><img src=\"https://colab.research.google.com/assets/colab-badge.svg\" alt=\"Open In Colab\"/></a>"
      ]
    },
    {
      "cell_type": "code",
      "execution_count": null,
      "metadata": {
        "id": "Z6Heai47VEAA"
      },
      "outputs": [],
      "source": []
    },
    {
      "cell_type": "code",
      "source": [
        "import wfdb\n",
        "import numpy as np\n",
        "import scipy.signal as signal\n",
        "\n",
        "# Load the ECG signal from a file\n",
        "record = wfdb.rdrecord('filename')\n",
        "signal = record.p_signal.flatten()\n",
        "\n",
        "# Preprocess the signal\n",
        "fs = record.fs\n",
        "fc_low = 0.5 # Lower cutoff frequency for the band-pass filter\n",
        "fc_high = 40 # Higher cutoff frequency for the band-pass filter\n",
        "b, a = signal.butter(2, [fc_low/(fs/2), fc_high/(fs/2)], 'band')\n",
        "filtered_signal = signal.filtfilt(b, a, signal)\n",
        "\n",
        "# Detect the QRS complex\n",
        "qrs_detector = None # Use a QRS detection algorithm like Pan-Tompkins or Wavelet Transform\n",
        "\n",
        "# Measure the QT interval\n",
        "qt_interval = None # Use an algorithm like the tangent method or the threshold-based method to detect the end of the T wave\n",
        "\n",
        "# Calculate the corrected QT interval (QTc)\n",
        "rr_interval = None # Calculate the RR interval between successive QRS complexes\n",
        "heart_rate = None # Calculate the heart rate from the RR interval\n",
        "qtc = qt_interval / np.sqrt(rr_interval) # Apply the Bazett's formula to correct the QT interval for heart rate variability\n",
        "\n",
        "print(\"Corrected QT interval (QTc): \", qtc)\n"
      ],
      "metadata": {
        "id": "rfg7Tu6hVF-1"
      },
      "execution_count": null,
      "outputs": []
    },
    {
      "cell_type": "markdown",
      "source": [
        "The function takes as input the ECG signal and the sampling frequency, and returns the indices of the QRS complex in the signal. You can then use these indices to measure the QT interval and calculate the corrected QT interval"
      ],
      "metadata": {
        "id": "vYY5GD3JVrFO"
      }
    },
    {
      "cell_type": "code",
      "source": [
        "import numpy as np\n",
        "import scipy.signal as signal\n",
        "\n",
        "def pan_tompkins_detector(ecg_signal, fs):\n",
        "    # Define filter parameters\n",
        "    fc_low = 5 # Lower cutoff frequency for the high-pass filter\n",
        "    fc_high = 15 # Higher cutoff frequency for the low-pass filter\n",
        "    b_high, a_high = signal.butter(1, fc_low/(fs/2), 'highpass')\n",
        "    b_low, a_low = signal.butter(1, fc_high/(fs/2), 'lowpass')\n",
        "\n",
        "    # Apply the high-pass filter to remove baseline wander and low-frequency noise\n",
        "    filtered_signal = signal.filtfilt(b_high, a_high, ecg_signal)\n",
        "\n",
        "    # Square the signal to enhance QRS complexes\n",
        "    squared_signal = filtered_signal ** 2\n",
        "\n",
        "    # Apply the low-pass filter to remove high-frequency noise\n",
        "    filtered_squared_signal = signal.filtfilt(b_low, a_low, squared_signal)\n",
        "\n",
        "    # Find the moving average of the filtered signal to detect QRS complexes\n",
        "    window_size = int(0.15 * fs)\n",
        "    mov_avg = np.convolve(filtered_squared_signal, np.ones(window_size)/window_size, mode='valid')\n",
        "\n",
        "    # Find the peaks of the moving average to detect QRS complexes\n",
        "    peaks, _ = signal.find_peaks(mov_avg, height=0.4*np.max(mov_avg))\n",
        "\n",
        "    # Remove false positive detections\n",
        "    diff_peaks = np.diff(peaks)\n",
        "    rr_avg = np.mean(diff_peaks)\n",
        "    min_rr = int(0.6 * rr_avg)\n",
        "    max_rr = int(1.5 * rr_avg)\n",
        "    valid_peaks = [peaks[0]]\n",
        "    for i in range(1, len(peaks)):\n",
        "        if peaks[i] - valid_peaks[-1] > max_rr:\n",
        "            valid_peaks.append(peaks[i])\n",
        "        elif peaks[i] - valid_peaks[-1] >= min_rr:\n",
        "            if mov_avg[peaks[i]] > mov_avg[valid_peaks[-1]]:\n",
        "                valid_peaks[-1] = peaks[i]\n",
        "\n",
        "    return valid_peaks\n"
      ],
      "metadata": {
        "id": "WJeIg-J3VhmN"
      },
      "execution_count": null,
      "outputs": []
    },
    {
      "cell_type": "markdown",
      "source": [
        "The function takes as input the ECG signal, the indices of the QRS complex in the signal, and the sampling frequency, and returns the QT interval in samples"
      ],
      "metadata": {
        "id": "upkDGbooWJ1J"
      }
    },
    {
      "cell_type": "code",
      "source": [
        "def tangent_method(ecg_signal, qrs_indices, fs):\n",
        "    qt_interval = None\n",
        "    \n",
        "    # Define the search range for the end of the T wave\n",
        "    search_range = int(0.4 * fs)\n",
        "\n",
        "    for i in range(len(qrs_indices)-1):\n",
        "        qrs_start = qrs_indices[i]\n",
        "        qrs_end = qrs_indices[i+1]\n",
        "\n",
        "        # Find the maximum point in the T wave\n",
        "        t_peak = np.argmax(ecg_signal[qrs_end:qrs_end+search_range]) + qrs_end\n",
        "\n",
        "        # Find the intersection point of the tangent line at the T peak and the isoelectric line\n",
        "        tangent_slope = (ecg_signal[t_peak] - ecg_signal[t_peak-10]) / 10\n",
        "        isoelectric_level = np.mean(ecg_signal[qrs_start-10:qrs_start])\n",
        "        tangent_intercept = ecg_signal[t_peak] - tangent_slope * t_peak\n",
        "        intersection_point = int((isoelectric_level - tangent_intercept) / tangent_slope)\n",
        "\n",
        "        # Calculate the QT interval\n",
        "        qt_interval_i = intersection_point - qrs_start\n",
        "\n",
        "        # Update the QT interval if it's longer than the previous one\n",
        "        if qt_interval is None or qt_interval_i > qt_interval:\n",
        "            qt_interval = qt_interval_i\n",
        "\n",
        "    return qt_interval\n"
      ],
      "metadata": {
        "id": "cu5q3HcCWKPM"
      },
      "execution_count": null,
      "outputs": []
    }
  ]
}